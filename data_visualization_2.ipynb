{
  "nbformat": 4,
  "nbformat_minor": 0,
  "metadata": {
    "kernelspec": {
      "display_name": "Python 3",
      "language": "python",
      "name": "python3"
    },
    "language_info": {
      "codemirror_mode": {
        "name": "ipython",
        "version": 3
      },
      "file_extension": ".py",
      "mimetype": "text/x-python",
      "name": "python",
      "nbconvert_exporter": "python",
      "pygments_lexer": "ipython3",
      "version": "3.7.3"
    },
    "colab": {
      "provenance": [],
      "include_colab_link": true
    }
  },
  "cells": [
    {
      "cell_type": "markdown",
      "metadata": {
        "id": "view-in-github",
        "colab_type": "text"
      },
      "source": [
        "<a href=\"https://colab.research.google.com/github/vedanth-aggarwal/datascience_introduction/blob/main/data_visualization_2.ipynb\" target=\"_parent\"><img src=\"https://colab.research.google.com/assets/colab-badge.svg\" alt=\"Open In Colab\"/></a>"
      ]
    },
    {
      "cell_type": "markdown",
      "metadata": {
        "id": "MAAKxOwsGxuj"
      },
      "source": [
        "## Get the Data\n",
        "\n",
        "Either use the provided .csv file or (optionally) get fresh (the freshest?) data from running an SQL query on StackExchange:\n",
        "\n",
        "Follow this link to run the query from [StackExchange](https://data.stackexchange.com/stackoverflow/query/675441/popular-programming-languages-per-over-time-eversql-com) to get your own .csv file\n",
        "\n",
        "<code>\n",
        "select dateadd(month, datediff(month, 0, q.CreationDate), 0) m, TagName, count(*)\n",
        "from PostTags pt\n",
        "join Posts q on q.Id=pt.PostId\n",
        "join Tags t on t.Id=pt.TagId\n",
        "where TagName in ('java','c','c++','python','c#','javascript','assembly','php','perl','ruby','visual basic','swift','r','object-c','scratch','go','swift','delphi')\n",
        "and q.CreationDate < dateadd(month, datediff(month, 0, getdate()), 0)\n",
        "group by dateadd(month, datediff(month, 0, q.CreationDate), 0), TagName\n",
        "order by dateadd(month, datediff(month, 0, q.CreationDate), 0)\n",
        "</code>"
      ]
    },
    {
      "cell_type": "markdown",
      "metadata": {
        "id": "u5KcSXt1Gxuk"
      },
      "source": [
        "## Import Statements"
      ]
    },
    {
      "cell_type": "code",
      "metadata": {
        "id": "Ru4Wq-pXGxuk"
      },
      "source": [
        "import pandas as pd\n",
        "import matplotlib.pyplot as plt"
      ],
      "execution_count": null,
      "outputs": []
    },
    {
      "cell_type": "markdown",
      "metadata": {
        "id": "xEP6beuEGxun"
      },
      "source": [
        "## Data Exploration"
      ]
    },
    {
      "cell_type": "markdown",
      "metadata": {
        "id": "w3Q75B4CGxun"
      },
      "source": [
        "**Challenge**: Read the .csv file and store it in a Pandas dataframe"
      ]
    },
    {
      "cell_type": "code",
      "metadata": {
        "id": "Bm7hQtEGIiri"
      },
      "source": [
        "df = pd.read_csv('query_results.csv',names=['DATE', 'TAG', 'POSTS'],header=0)"
      ],
      "execution_count": null,
      "outputs": []
    },
    {
      "cell_type": "markdown",
      "metadata": {
        "id": "x2WnDM75Gxup"
      },
      "source": [
        "**Challenge**: Examine the first 5 rows and the last 5 rows of the of the dataframe"
      ]
    },
    {
      "cell_type": "code",
      "metadata": {
        "id": "50oqpUxVIiJf",
        "colab": {
          "base_uri": "https://localhost:8080/",
          "height": 206
        },
        "outputId": "a15f8f7d-4923-46bb-a521-4a1f5d699727"
      },
      "source": [
        "df.head()\n",
        "#df.tail()"
      ],
      "execution_count": null,
      "outputs": [
        {
          "output_type": "execute_result",
          "data": {
            "text/plain": [
              "                  DATE         TAG  POSTS\n",
              "0  2008-07-01 00:00:00          c#      3\n",
              "1  2008-08-01 00:00:00    assembly      8\n",
              "2  2008-08-01 00:00:00  javascript    162\n",
              "3  2008-08-01 00:00:00           c     85\n",
              "4  2008-08-01 00:00:00      python    124"
            ],
            "text/html": [
              "\n",
              "  <div id=\"df-65c9ca15-6b10-4f36-b20a-f17d7f910cde\">\n",
              "    <div class=\"colab-df-container\">\n",
              "      <div>\n",
              "<style scoped>\n",
              "    .dataframe tbody tr th:only-of-type {\n",
              "        vertical-align: middle;\n",
              "    }\n",
              "\n",
              "    .dataframe tbody tr th {\n",
              "        vertical-align: top;\n",
              "    }\n",
              "\n",
              "    .dataframe thead th {\n",
              "        text-align: right;\n",
              "    }\n",
              "</style>\n",
              "<table border=\"1\" class=\"dataframe\">\n",
              "  <thead>\n",
              "    <tr style=\"text-align: right;\">\n",
              "      <th></th>\n",
              "      <th>DATE</th>\n",
              "      <th>TAG</th>\n",
              "      <th>POSTS</th>\n",
              "    </tr>\n",
              "  </thead>\n",
              "  <tbody>\n",
              "    <tr>\n",
              "      <th>0</th>\n",
              "      <td>2008-07-01 00:00:00</td>\n",
              "      <td>c#</td>\n",
              "      <td>3</td>\n",
              "    </tr>\n",
              "    <tr>\n",
              "      <th>1</th>\n",
              "      <td>2008-08-01 00:00:00</td>\n",
              "      <td>assembly</td>\n",
              "      <td>8</td>\n",
              "    </tr>\n",
              "    <tr>\n",
              "      <th>2</th>\n",
              "      <td>2008-08-01 00:00:00</td>\n",
              "      <td>javascript</td>\n",
              "      <td>162</td>\n",
              "    </tr>\n",
              "    <tr>\n",
              "      <th>3</th>\n",
              "      <td>2008-08-01 00:00:00</td>\n",
              "      <td>c</td>\n",
              "      <td>85</td>\n",
              "    </tr>\n",
              "    <tr>\n",
              "      <th>4</th>\n",
              "      <td>2008-08-01 00:00:00</td>\n",
              "      <td>python</td>\n",
              "      <td>124</td>\n",
              "    </tr>\n",
              "  </tbody>\n",
              "</table>\n",
              "</div>\n",
              "      <button class=\"colab-df-convert\" onclick=\"convertToInteractive('df-65c9ca15-6b10-4f36-b20a-f17d7f910cde')\"\n",
              "              title=\"Convert this dataframe to an interactive table.\"\n",
              "              style=\"display:none;\">\n",
              "        \n",
              "  <svg xmlns=\"http://www.w3.org/2000/svg\" height=\"24px\"viewBox=\"0 0 24 24\"\n",
              "       width=\"24px\">\n",
              "    <path d=\"M0 0h24v24H0V0z\" fill=\"none\"/>\n",
              "    <path d=\"M18.56 5.44l.94 2.06.94-2.06 2.06-.94-2.06-.94-.94-2.06-.94 2.06-2.06.94zm-11 1L8.5 8.5l.94-2.06 2.06-.94-2.06-.94L8.5 2.5l-.94 2.06-2.06.94zm10 10l.94 2.06.94-2.06 2.06-.94-2.06-.94-.94-2.06-.94 2.06-2.06.94z\"/><path d=\"M17.41 7.96l-1.37-1.37c-.4-.4-.92-.59-1.43-.59-.52 0-1.04.2-1.43.59L10.3 9.45l-7.72 7.72c-.78.78-.78 2.05 0 2.83L4 21.41c.39.39.9.59 1.41.59.51 0 1.02-.2 1.41-.59l7.78-7.78 2.81-2.81c.8-.78.8-2.07 0-2.86zM5.41 20L4 18.59l7.72-7.72 1.47 1.35L5.41 20z\"/>\n",
              "  </svg>\n",
              "      </button>\n",
              "      \n",
              "  <style>\n",
              "    .colab-df-container {\n",
              "      display:flex;\n",
              "      flex-wrap:wrap;\n",
              "      gap: 12px;\n",
              "    }\n",
              "\n",
              "    .colab-df-convert {\n",
              "      background-color: #E8F0FE;\n",
              "      border: none;\n",
              "      border-radius: 50%;\n",
              "      cursor: pointer;\n",
              "      display: none;\n",
              "      fill: #1967D2;\n",
              "      height: 32px;\n",
              "      padding: 0 0 0 0;\n",
              "      width: 32px;\n",
              "    }\n",
              "\n",
              "    .colab-df-convert:hover {\n",
              "      background-color: #E2EBFA;\n",
              "      box-shadow: 0px 1px 2px rgba(60, 64, 67, 0.3), 0px 1px 3px 1px rgba(60, 64, 67, 0.15);\n",
              "      fill: #174EA6;\n",
              "    }\n",
              "\n",
              "    [theme=dark] .colab-df-convert {\n",
              "      background-color: #3B4455;\n",
              "      fill: #D2E3FC;\n",
              "    }\n",
              "\n",
              "    [theme=dark] .colab-df-convert:hover {\n",
              "      background-color: #434B5C;\n",
              "      box-shadow: 0px 1px 3px 1px rgba(0, 0, 0, 0.15);\n",
              "      filter: drop-shadow(0px 1px 2px rgba(0, 0, 0, 0.3));\n",
              "      fill: #FFFFFF;\n",
              "    }\n",
              "  </style>\n",
              "\n",
              "      <script>\n",
              "        const buttonEl =\n",
              "          document.querySelector('#df-65c9ca15-6b10-4f36-b20a-f17d7f910cde button.colab-df-convert');\n",
              "        buttonEl.style.display =\n",
              "          google.colab.kernel.accessAllowed ? 'block' : 'none';\n",
              "\n",
              "        async function convertToInteractive(key) {\n",
              "          const element = document.querySelector('#df-65c9ca15-6b10-4f36-b20a-f17d7f910cde');\n",
              "          const dataTable =\n",
              "            await google.colab.kernel.invokeFunction('convertToInteractive',\n",
              "                                                     [key], {});\n",
              "          if (!dataTable) return;\n",
              "\n",
              "          const docLinkHtml = 'Like what you see? Visit the ' +\n",
              "            '<a target=\"_blank\" href=https://colab.research.google.com/notebooks/data_table.ipynb>data table notebook</a>'\n",
              "            + ' to learn more about interactive tables.';\n",
              "          element.innerHTML = '';\n",
              "          dataTable['output_type'] = 'display_data';\n",
              "          await google.colab.output.renderOutput(dataTable, element);\n",
              "          const docLink = document.createElement('div');\n",
              "          docLink.innerHTML = docLinkHtml;\n",
              "          element.appendChild(docLink);\n",
              "        }\n",
              "      </script>\n",
              "    </div>\n",
              "  </div>\n",
              "  "
            ]
          },
          "metadata": {},
          "execution_count": 6
        }
      ]
    },
    {
      "cell_type": "markdown",
      "metadata": {
        "id": "0o9hvVgyGxus"
      },
      "source": [
        "**Challenge:** Check how many rows and how many columns there are.\n",
        "What are the dimensions of the dataframe?"
      ]
    },
    {
      "cell_type": "code",
      "metadata": {
        "id": "ZUidjCPFIho8"
      },
      "source": [
        "df.shape()"
      ],
      "execution_count": null,
      "outputs": []
    },
    {
      "cell_type": "markdown",
      "metadata": {
        "id": "ybZkNLmxGxuu"
      },
      "source": [
        "**Challenge**: Count the number of entries in each column of the dataframe"
      ]
    },
    {
      "cell_type": "code",
      "metadata": {
        "id": "Sc1dmmOoIg2g",
        "colab": {
          "base_uri": "https://localhost:8080/"
        },
        "outputId": "4f5f3c49-ba07-461b-de27-c0f0da024b56"
      },
      "source": [
        "df.count()"
      ],
      "execution_count": null,
      "outputs": [
        {
          "output_type": "execute_result",
          "data": {
            "text/plain": [
              "DATE     1992\n",
              "TAG      1992\n",
              "POSTS    1991\n",
              "dtype: int64"
            ]
          },
          "metadata": {},
          "execution_count": 4
        }
      ]
    },
    {
      "cell_type": "markdown",
      "metadata": {
        "id": "hlnfFsscGxuw"
      },
      "source": [
        "**Challenge**: Calculate the total number of post per language.\n",
        "Which Programming language has had the highest total number of posts of all time?"
      ]
    },
    {
      "cell_type": "code",
      "metadata": {
        "id": "9-NYFONcIc1X"
      },
      "source": [
        "df.groupby('TAG').sum()"
      ],
      "execution_count": null,
      "outputs": []
    },
    {
      "cell_type": "markdown",
      "metadata": {
        "id": "iVCesB49Gxuz"
      },
      "source": [
        "Some languages are older (e.g., C) and other languages are newer (e.g., Swift). The dataset starts in September 2008.\n",
        "\n",
        "**Challenge**: How many months of data exist per language? Which language had the fewest months with an entry?\n"
      ]
    },
    {
      "cell_type": "code",
      "metadata": {
        "id": "hDT4JlJNJfgQ"
      },
      "source": [
        "df.groupby('TAG').count()"
      ],
      "execution_count": null,
      "outputs": []
    },
    {
      "cell_type": "markdown",
      "metadata": {
        "id": "arguGp3ZGxu1"
      },
      "source": [
        "## Data Cleaning\n",
        "\n",
        "Let's fix the date format to make it more readable. We need to use Pandas to change format from a string of \"2008-07-01 00:00:00\" to a datetime object with the format of \"2008-07-01\""
      ]
    },
    {
      "cell_type": "code",
      "metadata": {
        "id": "5nh5a4UtGxu1",
        "colab": {
          "base_uri": "https://localhost:8080/",
          "height": 206
        },
        "outputId": "78d7693d-db2b-4a52-ae8e-cdc6706754f6"
      },
      "source": [
        "df.DATE = pd.to_datetime(df.DATE)\n",
        "df.head()"
      ],
      "execution_count": null,
      "outputs": [
        {
          "output_type": "execute_result",
          "data": {
            "text/plain": [
              "        DATE         TAG  POSTS\n",
              "0 2008-07-01          c#      3\n",
              "1 2008-08-01    assembly      8\n",
              "2 2008-08-01  javascript    162\n",
              "3 2008-08-01           c     85\n",
              "4 2008-08-01      python    124"
            ],
            "text/html": [
              "\n",
              "  <div id=\"df-873dad1c-9070-4ce4-ab25-02e9a946dcb0\">\n",
              "    <div class=\"colab-df-container\">\n",
              "      <div>\n",
              "<style scoped>\n",
              "    .dataframe tbody tr th:only-of-type {\n",
              "        vertical-align: middle;\n",
              "    }\n",
              "\n",
              "    .dataframe tbody tr th {\n",
              "        vertical-align: top;\n",
              "    }\n",
              "\n",
              "    .dataframe thead th {\n",
              "        text-align: right;\n",
              "    }\n",
              "</style>\n",
              "<table border=\"1\" class=\"dataframe\">\n",
              "  <thead>\n",
              "    <tr style=\"text-align: right;\">\n",
              "      <th></th>\n",
              "      <th>DATE</th>\n",
              "      <th>TAG</th>\n",
              "      <th>POSTS</th>\n",
              "    </tr>\n",
              "  </thead>\n",
              "  <tbody>\n",
              "    <tr>\n",
              "      <th>0</th>\n",
              "      <td>2008-07-01</td>\n",
              "      <td>c#</td>\n",
              "      <td>3</td>\n",
              "    </tr>\n",
              "    <tr>\n",
              "      <th>1</th>\n",
              "      <td>2008-08-01</td>\n",
              "      <td>assembly</td>\n",
              "      <td>8</td>\n",
              "    </tr>\n",
              "    <tr>\n",
              "      <th>2</th>\n",
              "      <td>2008-08-01</td>\n",
              "      <td>javascript</td>\n",
              "      <td>162</td>\n",
              "    </tr>\n",
              "    <tr>\n",
              "      <th>3</th>\n",
              "      <td>2008-08-01</td>\n",
              "      <td>c</td>\n",
              "      <td>85</td>\n",
              "    </tr>\n",
              "    <tr>\n",
              "      <th>4</th>\n",
              "      <td>2008-08-01</td>\n",
              "      <td>python</td>\n",
              "      <td>124</td>\n",
              "    </tr>\n",
              "  </tbody>\n",
              "</table>\n",
              "</div>\n",
              "      <button class=\"colab-df-convert\" onclick=\"convertToInteractive('df-873dad1c-9070-4ce4-ab25-02e9a946dcb0')\"\n",
              "              title=\"Convert this dataframe to an interactive table.\"\n",
              "              style=\"display:none;\">\n",
              "        \n",
              "  <svg xmlns=\"http://www.w3.org/2000/svg\" height=\"24px\"viewBox=\"0 0 24 24\"\n",
              "       width=\"24px\">\n",
              "    <path d=\"M0 0h24v24H0V0z\" fill=\"none\"/>\n",
              "    <path d=\"M18.56 5.44l.94 2.06.94-2.06 2.06-.94-2.06-.94-.94-2.06-.94 2.06-2.06.94zm-11 1L8.5 8.5l.94-2.06 2.06-.94-2.06-.94L8.5 2.5l-.94 2.06-2.06.94zm10 10l.94 2.06.94-2.06 2.06-.94-2.06-.94-.94-2.06-.94 2.06-2.06.94z\"/><path d=\"M17.41 7.96l-1.37-1.37c-.4-.4-.92-.59-1.43-.59-.52 0-1.04.2-1.43.59L10.3 9.45l-7.72 7.72c-.78.78-.78 2.05 0 2.83L4 21.41c.39.39.9.59 1.41.59.51 0 1.02-.2 1.41-.59l7.78-7.78 2.81-2.81c.8-.78.8-2.07 0-2.86zM5.41 20L4 18.59l7.72-7.72 1.47 1.35L5.41 20z\"/>\n",
              "  </svg>\n",
              "      </button>\n",
              "      \n",
              "  <style>\n",
              "    .colab-df-container {\n",
              "      display:flex;\n",
              "      flex-wrap:wrap;\n",
              "      gap: 12px;\n",
              "    }\n",
              "\n",
              "    .colab-df-convert {\n",
              "      background-color: #E8F0FE;\n",
              "      border: none;\n",
              "      border-radius: 50%;\n",
              "      cursor: pointer;\n",
              "      display: none;\n",
              "      fill: #1967D2;\n",
              "      height: 32px;\n",
              "      padding: 0 0 0 0;\n",
              "      width: 32px;\n",
              "    }\n",
              "\n",
              "    .colab-df-convert:hover {\n",
              "      background-color: #E2EBFA;\n",
              "      box-shadow: 0px 1px 2px rgba(60, 64, 67, 0.3), 0px 1px 3px 1px rgba(60, 64, 67, 0.15);\n",
              "      fill: #174EA6;\n",
              "    }\n",
              "\n",
              "    [theme=dark] .colab-df-convert {\n",
              "      background-color: #3B4455;\n",
              "      fill: #D2E3FC;\n",
              "    }\n",
              "\n",
              "    [theme=dark] .colab-df-convert:hover {\n",
              "      background-color: #434B5C;\n",
              "      box-shadow: 0px 1px 3px 1px rgba(0, 0, 0, 0.15);\n",
              "      filter: drop-shadow(0px 1px 2px rgba(0, 0, 0, 0.3));\n",
              "      fill: #FFFFFF;\n",
              "    }\n",
              "  </style>\n",
              "\n",
              "      <script>\n",
              "        const buttonEl =\n",
              "          document.querySelector('#df-873dad1c-9070-4ce4-ab25-02e9a946dcb0 button.colab-df-convert');\n",
              "        buttonEl.style.display =\n",
              "          google.colab.kernel.accessAllowed ? 'block' : 'none';\n",
              "\n",
              "        async function convertToInteractive(key) {\n",
              "          const element = document.querySelector('#df-873dad1c-9070-4ce4-ab25-02e9a946dcb0');\n",
              "          const dataTable =\n",
              "            await google.colab.kernel.invokeFunction('convertToInteractive',\n",
              "                                                     [key], {});\n",
              "          if (!dataTable) return;\n",
              "\n",
              "          const docLinkHtml = 'Like what you see? Visit the ' +\n",
              "            '<a target=\"_blank\" href=https://colab.research.google.com/notebooks/data_table.ipynb>data table notebook</a>'\n",
              "            + ' to learn more about interactive tables.';\n",
              "          element.innerHTML = '';\n",
              "          dataTable['output_type'] = 'display_data';\n",
              "          await google.colab.output.renderOutput(dataTable, element);\n",
              "          const docLink = document.createElement('div');\n",
              "          docLink.innerHTML = docLinkHtml;\n",
              "          element.appendChild(docLink);\n",
              "        }\n",
              "      </script>\n",
              "    </div>\n",
              "  </div>\n",
              "  "
            ]
          },
          "metadata": {},
          "execution_count": 15
        }
      ]
    },
    {
      "cell_type": "markdown",
      "metadata": {
        "id": "rWAV6tuzGxu6"
      },
      "source": [
        "## Data Manipulation\n",
        "\n"
      ]
    },
    {
      "cell_type": "code",
      "metadata": {
        "id": "aHhbulJaGxu7"
      },
      "source": [
        "nd = df.pivot(index='DATE', columns='TAG', values='POSTS')"
      ],
      "execution_count": null,
      "outputs": []
    },
    {
      "cell_type": "markdown",
      "metadata": {
        "id": "RWKcVIyFKwHM"
      },
      "source": [
        "**Challenge**: What are the dimensions of our new dataframe? How many rows and columns does it have? Print out the column names and print out the first 5 rows of the dataframe."
      ]
    },
    {
      "cell_type": "code",
      "metadata": {
        "id": "v-u4FcLXGxu9"
      },
      "source": [
        "nd.shape()"
      ],
      "execution_count": null,
      "outputs": []
    },
    {
      "cell_type": "code",
      "metadata": {
        "id": "NUyBcaMMGxu-"
      },
      "source": [
        "nd.columns"
      ],
      "execution_count": null,
      "outputs": []
    },
    {
      "cell_type": "code",
      "metadata": {
        "id": "LnUIOL3LGxvA",
        "colab": {
          "base_uri": "https://localhost:8080/",
          "height": 368
        },
        "outputId": "b51fa3cd-4e21-43bc-a228-697c73b76485"
      },
      "source": [
        "nd.head()"
      ],
      "execution_count": null,
      "outputs": [
        {
          "output_type": "execute_result",
          "data": {
            "text/plain": [
              "TAG         assembly      c      c#    c++  delphi  go    java  javascript  \\\n",
              "DATE                                                                         \n",
              "2008-07-01       NaN    NaN     3.0    NaN     NaN NaN     NaN         NaN   \n",
              "2008-08-01       8.0   85.0   511.0  164.0    14.0 NaN   222.0       162.0   \n",
              "2008-09-01      28.0  321.0  1649.0  755.0   105.0 NaN  1137.0       640.0   \n",
              "2008-10-01      15.0  303.0  1989.0  811.0   112.0 NaN  1153.0       725.0   \n",
              "2008-11-01      17.0  259.0  1730.0  735.0   141.0 NaN   958.0       579.0   \n",
              "\n",
              "TAG          perl    php  python    r   ruby  swift  \n",
              "DATE                                                 \n",
              "2008-07-01    NaN    NaN     NaN  NaN    NaN    NaN  \n",
              "2008-08-01   28.0  161.0   124.0  NaN   73.0    NaN  \n",
              "2008-09-01  131.0  482.0   542.0  6.0  290.0    NaN  \n",
              "2008-10-01  127.0  617.0   510.0  NaN  249.0    NaN  \n",
              "2008-11-01   97.0  504.0   452.0  1.0  160.0    NaN  "
            ],
            "text/html": [
              "\n",
              "  <div id=\"df-cc8e5d2d-1cfa-4a3a-9dd0-fecf641c2c65\">\n",
              "    <div class=\"colab-df-container\">\n",
              "      <div>\n",
              "<style scoped>\n",
              "    .dataframe tbody tr th:only-of-type {\n",
              "        vertical-align: middle;\n",
              "    }\n",
              "\n",
              "    .dataframe tbody tr th {\n",
              "        vertical-align: top;\n",
              "    }\n",
              "\n",
              "    .dataframe thead th {\n",
              "        text-align: right;\n",
              "    }\n",
              "</style>\n",
              "<table border=\"1\" class=\"dataframe\">\n",
              "  <thead>\n",
              "    <tr style=\"text-align: right;\">\n",
              "      <th>TAG</th>\n",
              "      <th>assembly</th>\n",
              "      <th>c</th>\n",
              "      <th>c#</th>\n",
              "      <th>c++</th>\n",
              "      <th>delphi</th>\n",
              "      <th>go</th>\n",
              "      <th>java</th>\n",
              "      <th>javascript</th>\n",
              "      <th>perl</th>\n",
              "      <th>php</th>\n",
              "      <th>python</th>\n",
              "      <th>r</th>\n",
              "      <th>ruby</th>\n",
              "      <th>swift</th>\n",
              "    </tr>\n",
              "    <tr>\n",
              "      <th>DATE</th>\n",
              "      <th></th>\n",
              "      <th></th>\n",
              "      <th></th>\n",
              "      <th></th>\n",
              "      <th></th>\n",
              "      <th></th>\n",
              "      <th></th>\n",
              "      <th></th>\n",
              "      <th></th>\n",
              "      <th></th>\n",
              "      <th></th>\n",
              "      <th></th>\n",
              "      <th></th>\n",
              "      <th></th>\n",
              "    </tr>\n",
              "  </thead>\n",
              "  <tbody>\n",
              "    <tr>\n",
              "      <th>2008-07-01</th>\n",
              "      <td>NaN</td>\n",
              "      <td>NaN</td>\n",
              "      <td>3.0</td>\n",
              "      <td>NaN</td>\n",
              "      <td>NaN</td>\n",
              "      <td>NaN</td>\n",
              "      <td>NaN</td>\n",
              "      <td>NaN</td>\n",
              "      <td>NaN</td>\n",
              "      <td>NaN</td>\n",
              "      <td>NaN</td>\n",
              "      <td>NaN</td>\n",
              "      <td>NaN</td>\n",
              "      <td>NaN</td>\n",
              "    </tr>\n",
              "    <tr>\n",
              "      <th>2008-08-01</th>\n",
              "      <td>8.0</td>\n",
              "      <td>85.0</td>\n",
              "      <td>511.0</td>\n",
              "      <td>164.0</td>\n",
              "      <td>14.0</td>\n",
              "      <td>NaN</td>\n",
              "      <td>222.0</td>\n",
              "      <td>162.0</td>\n",
              "      <td>28.0</td>\n",
              "      <td>161.0</td>\n",
              "      <td>124.0</td>\n",
              "      <td>NaN</td>\n",
              "      <td>73.0</td>\n",
              "      <td>NaN</td>\n",
              "    </tr>\n",
              "    <tr>\n",
              "      <th>2008-09-01</th>\n",
              "      <td>28.0</td>\n",
              "      <td>321.0</td>\n",
              "      <td>1649.0</td>\n",
              "      <td>755.0</td>\n",
              "      <td>105.0</td>\n",
              "      <td>NaN</td>\n",
              "      <td>1137.0</td>\n",
              "      <td>640.0</td>\n",
              "      <td>131.0</td>\n",
              "      <td>482.0</td>\n",
              "      <td>542.0</td>\n",
              "      <td>6.0</td>\n",
              "      <td>290.0</td>\n",
              "      <td>NaN</td>\n",
              "    </tr>\n",
              "    <tr>\n",
              "      <th>2008-10-01</th>\n",
              "      <td>15.0</td>\n",
              "      <td>303.0</td>\n",
              "      <td>1989.0</td>\n",
              "      <td>811.0</td>\n",
              "      <td>112.0</td>\n",
              "      <td>NaN</td>\n",
              "      <td>1153.0</td>\n",
              "      <td>725.0</td>\n",
              "      <td>127.0</td>\n",
              "      <td>617.0</td>\n",
              "      <td>510.0</td>\n",
              "      <td>NaN</td>\n",
              "      <td>249.0</td>\n",
              "      <td>NaN</td>\n",
              "    </tr>\n",
              "    <tr>\n",
              "      <th>2008-11-01</th>\n",
              "      <td>17.0</td>\n",
              "      <td>259.0</td>\n",
              "      <td>1730.0</td>\n",
              "      <td>735.0</td>\n",
              "      <td>141.0</td>\n",
              "      <td>NaN</td>\n",
              "      <td>958.0</td>\n",
              "      <td>579.0</td>\n",
              "      <td>97.0</td>\n",
              "      <td>504.0</td>\n",
              "      <td>452.0</td>\n",
              "      <td>1.0</td>\n",
              "      <td>160.0</td>\n",
              "      <td>NaN</td>\n",
              "    </tr>\n",
              "  </tbody>\n",
              "</table>\n",
              "</div>\n",
              "      <button class=\"colab-df-convert\" onclick=\"convertToInteractive('df-cc8e5d2d-1cfa-4a3a-9dd0-fecf641c2c65')\"\n",
              "              title=\"Convert this dataframe to an interactive table.\"\n",
              "              style=\"display:none;\">\n",
              "        \n",
              "  <svg xmlns=\"http://www.w3.org/2000/svg\" height=\"24px\"viewBox=\"0 0 24 24\"\n",
              "       width=\"24px\">\n",
              "    <path d=\"M0 0h24v24H0V0z\" fill=\"none\"/>\n",
              "    <path d=\"M18.56 5.44l.94 2.06.94-2.06 2.06-.94-2.06-.94-.94-2.06-.94 2.06-2.06.94zm-11 1L8.5 8.5l.94-2.06 2.06-.94-2.06-.94L8.5 2.5l-.94 2.06-2.06.94zm10 10l.94 2.06.94-2.06 2.06-.94-2.06-.94-.94-2.06-.94 2.06-2.06.94z\"/><path d=\"M17.41 7.96l-1.37-1.37c-.4-.4-.92-.59-1.43-.59-.52 0-1.04.2-1.43.59L10.3 9.45l-7.72 7.72c-.78.78-.78 2.05 0 2.83L4 21.41c.39.39.9.59 1.41.59.51 0 1.02-.2 1.41-.59l7.78-7.78 2.81-2.81c.8-.78.8-2.07 0-2.86zM5.41 20L4 18.59l7.72-7.72 1.47 1.35L5.41 20z\"/>\n",
              "  </svg>\n",
              "      </button>\n",
              "      \n",
              "  <style>\n",
              "    .colab-df-container {\n",
              "      display:flex;\n",
              "      flex-wrap:wrap;\n",
              "      gap: 12px;\n",
              "    }\n",
              "\n",
              "    .colab-df-convert {\n",
              "      background-color: #E8F0FE;\n",
              "      border: none;\n",
              "      border-radius: 50%;\n",
              "      cursor: pointer;\n",
              "      display: none;\n",
              "      fill: #1967D2;\n",
              "      height: 32px;\n",
              "      padding: 0 0 0 0;\n",
              "      width: 32px;\n",
              "    }\n",
              "\n",
              "    .colab-df-convert:hover {\n",
              "      background-color: #E2EBFA;\n",
              "      box-shadow: 0px 1px 2px rgba(60, 64, 67, 0.3), 0px 1px 3px 1px rgba(60, 64, 67, 0.15);\n",
              "      fill: #174EA6;\n",
              "    }\n",
              "\n",
              "    [theme=dark] .colab-df-convert {\n",
              "      background-color: #3B4455;\n",
              "      fill: #D2E3FC;\n",
              "    }\n",
              "\n",
              "    [theme=dark] .colab-df-convert:hover {\n",
              "      background-color: #434B5C;\n",
              "      box-shadow: 0px 1px 3px 1px rgba(0, 0, 0, 0.15);\n",
              "      filter: drop-shadow(0px 1px 2px rgba(0, 0, 0, 0.3));\n",
              "      fill: #FFFFFF;\n",
              "    }\n",
              "  </style>\n",
              "\n",
              "      <script>\n",
              "        const buttonEl =\n",
              "          document.querySelector('#df-cc8e5d2d-1cfa-4a3a-9dd0-fecf641c2c65 button.colab-df-convert');\n",
              "        buttonEl.style.display =\n",
              "          google.colab.kernel.accessAllowed ? 'block' : 'none';\n",
              "\n",
              "        async function convertToInteractive(key) {\n",
              "          const element = document.querySelector('#df-cc8e5d2d-1cfa-4a3a-9dd0-fecf641c2c65');\n",
              "          const dataTable =\n",
              "            await google.colab.kernel.invokeFunction('convertToInteractive',\n",
              "                                                     [key], {});\n",
              "          if (!dataTable) return;\n",
              "\n",
              "          const docLinkHtml = 'Like what you see? Visit the ' +\n",
              "            '<a target=\"_blank\" href=https://colab.research.google.com/notebooks/data_table.ipynb>data table notebook</a>'\n",
              "            + ' to learn more about interactive tables.';\n",
              "          element.innerHTML = '';\n",
              "          dataTable['output_type'] = 'display_data';\n",
              "          await google.colab.output.renderOutput(dataTable, element);\n",
              "          const docLink = document.createElement('div');\n",
              "          docLink.innerHTML = docLinkHtml;\n",
              "          element.appendChild(docLink);\n",
              "        }\n",
              "      </script>\n",
              "    </div>\n",
              "  </div>\n",
              "  "
            ]
          },
          "metadata": {},
          "execution_count": 27
        }
      ]
    },
    {
      "cell_type": "markdown",
      "metadata": {
        "id": "BoDCuRU0GxvC"
      },
      "source": [
        "**Challenge**: Count the number of entries per programming language. Why might the number of entries be different?"
      ]
    },
    {
      "cell_type": "code",
      "metadata": {
        "id": "-peEFgaMGxvE"
      },
      "source": [
        "nd.count()"
      ],
      "execution_count": null,
      "outputs": []
    },
    {
      "cell_type": "code",
      "metadata": {
        "id": "01f2BCF8GxvG"
      },
      "source": [
        "# Replace NaN values\n",
        "nd.fillna(0, inplace=True)"
      ],
      "execution_count": null,
      "outputs": []
    },
    {
      "cell_type": "code",
      "metadata": {
        "id": "KooRRxAdGxvI",
        "colab": {
          "base_uri": "https://localhost:8080/"
        },
        "outputId": "3ace4952-cecd-472c-e6d9-3f988f536916"
      },
      "source": [
        "# Any remaining NaN values\n",
        "#nd.isna().values\n",
        "nd.isna().values.any()"
      ],
      "execution_count": null,
      "outputs": [
        {
          "output_type": "execute_result",
          "data": {
            "text/plain": [
              "False"
            ]
          },
          "metadata": {},
          "execution_count": 21
        }
      ]
    },
    {
      "cell_type": "markdown",
      "metadata": {
        "id": "8xU7l_f4GxvK"
      },
      "source": [
        "## Data Visualisaton with with Matplotlib\n"
      ]
    },
    {
      "cell_type": "markdown",
      "metadata": {
        "id": "njnNXTlhGxvK"
      },
      "source": [
        "**Challenge**: Use the [matplotlib documentation](https://matplotlib.org/3.2.1/api/_as_gen/matplotlib.pyplot.plot.html#matplotlib.pyplot.plot) to plot a single programming language (e.g., java) on a chart."
      ]
    },
    {
      "cell_type": "code",
      "metadata": {
        "id": "S0OS8T8iGxvL",
        "colab": {
          "base_uri": "https://localhost:8080/",
          "height": 563
        },
        "outputId": "1a8548a2-4a3c-486a-de7f-d0afc6c0cd86"
      },
      "source": [
        "roll = nd.rolling(window=8).mean()\n",
        "plt.figure(figsize=(16,10))\n",
        "plt.xticks(fontsize=14)\n",
        "plt.yticks(fontsize=14)\n",
        "plt.xlabel('Date', fontsize=14)\n",
        "plt.ylabel('Number of Posts', fontsize=14)\n",
        "plt.ylim(0, 35000)\n",
        "\n",
        "for column in roll.columns:\n",
        "  plt.plot(roll.index,roll[column],linewidth=3, label=roll[column].name)\n",
        "\n",
        "plt.legend(fontsize=16)"
      ],
      "execution_count": null,
      "outputs": [
        {
          "output_type": "execute_result",
          "data": {
            "text/plain": [
              "<matplotlib.legend.Legend at 0x7f94e1afc550>"
            ]
          },
          "metadata": {},
          "execution_count": 42
        },
        {
          "output_type": "display_data",
          "data": {
            "text/plain": [
              "<Figure size 1152x720 with 1 Axes>"
            ],
            "image/png": "[encoded data removed]"
          },
          "metadata": {
            "needs_background": "light"
          }
        }
      ]
    },
    {
      "cell_type": "code",
      "metadata": {
        "id": "EU6AV1l9GxvM"
      },
      "source": [
        "''' Styling Parameters'''\n",
        "#figure() - allows us to resize our chart\n",
        "\n",
        "#xticks() - configures our x-axis\n",
        "\n",
        "#yticks() - configures our y-axis\n",
        "\n",
        "#xlabel() - add text to the x-axis\n",
        "\n",
        "#ylabel() - add text to the y-axis\n",
        "\n",
        "#ylim() - allows us to set a lower and upper bound\n"
      ],
      "execution_count": null,
      "outputs": []
    },
    {
      "cell_type": "markdown",
      "metadata": {
        "id": "3jSjfPy7GxvY"
      },
      "source": [
        "# Smoothing out Time Series Data\n",
        "\n",
        "Time series data can be quite noisy, with a lot of up and down spikes. To better see a trend we can plot an average of, say 6 or 12 observations. This is called the rolling mean. We calculate the average in a window of time and move it forward by one overservation. Pandas has two handy methods already built in to work this out: [rolling()](https://pandas.pydata.org/pandas-docs/stable/reference/api/pandas.DataFrame.rolling.html) and [mean()](https://pandas.pydata.org/pandas-docs/stable/reference/api/pandas.core.window.rolling.Rolling.mean.html)."
      ]
    }
  ]
}